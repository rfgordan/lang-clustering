{
 "cells": [
  {
   "cell_type": "code",
   "execution_count": 1,
   "metadata": {},
   "outputs": [],
   "source": [
    "import torch\n",
    "import torchnlp"
   ]
  },
  {
   "cell_type": "code",
   "execution_count": 2,
   "metadata": {},
   "outputs": [],
   "source": [
    "from torchtext import data"
   ]
  },
  {
   "cell_type": "code",
   "execution_count": 3,
   "metadata": {},
   "outputs": [],
   "source": [
    "from torch import nn\n",
    "from torch.nn import functional as F\n",
    "from torch.nn.utils import clip_grad_norm\n",
    "from torchnlp.encoders import LabelEncoder\n",
    "from torchnlp.encoders.text import CharacterEncoder\n",
    "from torch.utils.data import Dataset, DataLoader"
   ]
  },
  {
   "cell_type": "code",
   "execution_count": 4,
   "metadata": {},
   "outputs": [],
   "source": [
    "from torch.autograd import Variable"
   ]
  },
  {
   "cell_type": "code",
   "execution_count": 5,
   "metadata": {},
   "outputs": [],
   "source": [
    "import csv\n",
    "import sys\n",
    "import os\n",
    "import numpy as np\n",
    "import pandas as pd\n",
    "import pickle as pi\n",
    "import time\n",
    "import math"
   ]
  },
  {
   "cell_type": "code",
   "execution_count": 6,
   "metadata": {},
   "outputs": [],
   "source": [
    "from collections import defaultdict\n",
    "import random"
   ]
  },
  {
   "cell_type": "code",
   "execution_count": 7,
   "metadata": {},
   "outputs": [
    {
     "data": {
      "text/plain": [
       "40"
      ]
     },
     "execution_count": 7,
     "metadata": {},
     "output_type": "execute_result"
    }
   ],
   "source": [
    "import gc\n",
    "gc.collect()"
   ]
  },
  {
   "cell_type": "code",
   "execution_count": 8,
   "metadata": {},
   "outputs": [],
   "source": [
    "sentences_path = './sentences.csv'\n",
    "pairs_path = './paired-langs/'\n",
    "use_cuda = True\n",
    "torch.cuda.device_count()\n",
    "epochs = 20"
   ]
  },
  {
   "cell_type": "code",
   "execution_count": 9,
   "metadata": {},
   "outputs": [],
   "source": [
    "pairs_list = []\n",
    "for file_path in os.listdir(pairs_path):\n",
    "    if \".txt\" in file_path:\n",
    "        pairs_list += [file_path[:3]]"
   ]
  },
  {
   "cell_type": "code",
   "execution_count": 10,
   "metadata": {},
   "outputs": [],
   "source": [
    "def showall():\n",
    "    for lang in pairs_list:\n",
    "        full_path = os.path.join(pairs_path, lang + '.txt')\n",
    "        with open(full_path, 'r') as f:\n",
    "            first5 = []\n",
    "            for i in range(5):\n",
    "                first5 += [next(f)]\n",
    "            print(lang)\n",
    "            yield first5"
   ]
  },
  {
   "cell_type": "code",
   "execution_count": 11,
   "metadata": {},
   "outputs": [],
   "source": [
    "# return (lang, input, output)\n",
    "def get_data():\n",
    "    sentences = []\n",
    "    for lang in pairs_list:\n",
    "        full_path = os.path.join(pairs_path, lang + '.txt')\n",
    "        with open(full_path, 'r') as f:\n",
    "            for line in f:\n",
    "                sentences.append((lang, *line.strip('\\n').split('\\t')))\n",
    "    return sentences"
   ]
  },
  {
   "cell_type": "code",
   "execution_count": 12,
   "metadata": {},
   "outputs": [],
   "source": [
    "s = get_data()"
   ]
  },
  {
   "cell_type": "code",
   "execution_count": 13,
   "metadata": {},
   "outputs": [],
   "source": [
    "# get character encoder from all possible characters\n",
    "cols = list(zip(*s))\n",
    "encoder = CharacterEncoder(list(cols[1]) + list(cols[2]))"
   ]
  },
  {
   "cell_type": "code",
   "execution_count": 14,
   "metadata": {},
   "outputs": [],
   "source": [
    "# get lang encoding\n",
    "lang_encoder = LabelEncoder(pairs_list)"
   ]
  },
  {
   "cell_type": "code",
   "execution_count": 15,
   "metadata": {},
   "outputs": [],
   "source": [
    "# encode s\n",
    "def encode_dataset(ds, seq_start, seq_end):\n",
    "    return list(map(lambda r: (lang_encoder.encode(r[0]), encoder.encode(r[1]), torch.cat([torch.LongTensor([seq_start]), encoder.encode(r[2]), torch.LongTensor([seq_end])])),s))"
   ]
  },
  {
   "cell_type": "code",
   "execution_count": 16,
   "metadata": {},
   "outputs": [],
   "source": [
    "s = encode_dataset(s, encoder.stoi['<s>'], encoder.stoi['</s>'])"
   ]
  },
  {
   "cell_type": "code",
   "execution_count": 17,
   "metadata": {},
   "outputs": [],
   "source": [
    "def dataset_iter(ds, batch_size=100, padding_idx=1):\n",
    "    l = len(ds)\n",
    "    batch_bounds = zip(list(range(0,l,batch_size)), list(range(batch_size, l, batch_size)) + [l])\n",
    "    for batch_bound in batch_bounds:\n",
    "        batch_start, batch_end = batch_bound\n",
    "        exs = ds[batch_start:batch_end]\n",
    "        lang, src, tgt = zip(*exs)\n",
    "#         print(src[0].shape)\n",
    "        src = nn.utils.rnn.pad_sequence(src, padding_value=padding_idx, batch_first=True)\n",
    "#         print(src.shape)\n",
    "        tgt = nn.utils.rnn.pad_sequence(tgt, padding_value=padding_idx, batch_first=True)\n",
    "        exs = list(zip(lang,src,tgt))\n",
    "        yield exs"
   ]
  },
  {
   "cell_type": "code",
   "execution_count": 18,
   "metadata": {},
   "outputs": [],
   "source": [
    "# split data into train, val\n",
    "val_fraction = 0.1\n",
    "random.shuffle(s)\n",
    "split_index = int(-len(s)*val_fraction)\n",
    "val = s[split_index:]\n",
    "train = s[:split_index]\n",
    "\n",
    "#val_iter, train_iter = data.BucketIterator.splits((val, train), batch_size=100, sort_key=len)"
   ]
  },
  {
   "cell_type": "code",
   "execution_count": 19,
   "metadata": {},
   "outputs": [],
   "source": [
    "class CharEncoder(nn.Module):\n",
    "    def __init__(self, num_chars, embedding_c, h1_dim, num_layers):\n",
    "        super().__init__()\n",
    "        \n",
    "        self.char_encoder = nn.Embedding(num_chars, embedding_c, padding_idx=0)        \n",
    "        self.rnn = nn.LSTM(embedding_c, h1_dim, num_layers, bidirectional=True)\n",
    "        self.num_layers = num_layers\n",
    "        self.h1_dim = h1_dim\n",
    "        self.directions = 2\n",
    "        self.hidden_flat_size = h1_dim*num_layers*self.directions\n",
    "        \n",
    "    def forward(self, x):\n",
    "        embedded = self.char_encoder(x)\n",
    "        encoded, hidden = self.rnn(embedded)\n",
    "        return encoded, hidden"
   ]
  },
  {
   "cell_type": "code",
   "execution_count": 20,
   "metadata": {},
   "outputs": [],
   "source": [
    "class CharDecoder(nn.Module):\n",
    "    def __init__(self, num_chars, embedding_c, h1_dim, num_layers):\n",
    "        super().__init__()\n",
    "        self.h1_dim = h1_dim\n",
    "        self.num_layers = num_layers        \n",
    "        self.hidden_flat_size = h1_dim*num_layers\n",
    "        self.out = nn.Linear(h1_dim, num_chars)\n",
    "        self.softmax = nn.Softmax(dim=1)\n",
    "        self.embedding = nn.Embedding(num_chars, embedding_c, padding_idx=0)\n",
    "        self.rnn = nn.LSTM(embedding_c, h1_dim, num_layers)\n",
    "        \n",
    "    def forward(self, x, hidden):        \n",
    "        embedded = self.embedding(x)\n",
    "#         print(embedded.shape)\n",
    "        embedded = embedded.unsqueeze(0)\n",
    "        output, hidden = self.rnn(embedded, hidden)\n",
    "        output = output.squeeze(0)\n",
    "        output = self.softmax(self.out(output))\n",
    "        return output, hidden"
   ]
  },
  {
   "cell_type": "code",
   "execution_count": 21,
   "metadata": {},
   "outputs": [],
   "source": [
    "class Chars2Chars(nn.Module):\n",
    "    def __init__(self, encoder, decoder, vocab_size, num_langs, embedding_l):\n",
    "        super(Chars2Chars, self).__init__()\n",
    "        self.encoder = encoder\n",
    "        self.decoder = decoder\n",
    "        self.vocab_size = vocab_size\n",
    "        self.lang_embedding = nn.Embedding(num_langs, embedding_l)\n",
    "        self.lang_in = nn.Linear(self.encoder.hidden_flat_size + embedding_l, self.decoder.hidden_flat_size)\n",
    "        \n",
    "    def forward(self, langs, input_seqs, target_seqs, batch_size, target_length):\n",
    "        if use_cuda:\n",
    "            outputs = Variable(torch.zeros(target_length, batch_size, self.vocab_size)).cuda()\n",
    "        else:\n",
    "            outputs = Variable(torch.zeros(target_length, batch_size, self.vocab_size))\n",
    "            \n",
    "        #print(input_seqs.shape)\n",
    "        encoder_output, hidden = self.encoder(input_seqs)\n",
    "        \n",
    "        # calculate lang embedding -> starting hidden state\n",
    "        lang_rep = self.lang_embedding(langs)\n",
    "        hidden, _ = hidden\n",
    "        #print(lang_rep.shape)\n",
    "        lang_and_enc = torch.cat([lang_rep, hidden.view((batch_size,self.encoder.hidden_flat_size))],dim=1)\n",
    "        #print(lang_and_enc.shape)\n",
    "        hidden_start = self.lang_in(lang_and_enc)\n",
    "        hidden = hidden_start.view((self.decoder.num_layers, batch_size, self.decoder.h1_dim))\n",
    "        cell = torch.zeros(hidden.shape)\n",
    "        output = Variable(target_seqs.data[0, :])\n",
    "        if use_cuda:\n",
    "            output = output.cuda()\n",
    "            cell = cell.cuda()\n",
    "        hidden = (hidden, cell)\n",
    "        for t in range(1, target_length):\n",
    "            output, hidden = self.decoder(output, hidden)\n",
    "            outputs[t] = output\n",
    "            #best = output[0].data.max(1)[1]\n",
    "            if use_cuda:\n",
    "                output = Variable(target_seqs.data[t]).cuda()\n",
    "                #output = Variable(best).cuda()\n",
    "            else:\n",
    "                output = Variable(target_seqs.data[t])\n",
    "                #output = Variable(best)\n",
    "        return outputs\n",
    "    \n",
    "    def batch_train(self, optimizer, train_iter, vocab_size, grad_clip=2, padding_idx=0):\n",
    "        self.train()\n",
    "        total_loss = 0\n",
    "        pad = padding_idx\n",
    "        curr_time = time.time()\n",
    "        for b, batch in enumerate(train_iter):\n",
    "            langs, source, target = zip(*batch)\n",
    "            langs, source, target = torch.stack(langs), torch.stack(source), torch.stack(target)\n",
    "            source = source.T\n",
    "            target = target.T\n",
    "            if use_cuda:\n",
    "                langs, source, target = langs.cuda(), source.cuda(), target.cuda()\n",
    "            optimizer.zero_grad()\n",
    "            output = self.forward(langs, source, target, len(batch), target.shape[0])\n",
    "            loss = F.cross_entropy(output[1:].view(-1, vocab_size),\n",
    "                                   target[1:].contiguous().view(-1),\n",
    "                                   ignore_index=pad)\n",
    "            loss.backward()\n",
    "            clip_grad_norm(self.parameters(), grad_clip)\n",
    "            optimizer.step()\n",
    "            total_loss += loss.item()\n",
    "\n",
    "            if b % 1000 == 0 and b != 0:\n",
    "                total_loss = total_loss / 1000\n",
    "                print(\"[%d][loss:%5.2f][pp:%5.2f][time:%5.2f]\" %\n",
    "                      (b, total_loss, math.exp(total_loss), time.time() - curr_time))\n",
    "                total_loss = 0\n",
    "                curr_time = time.time()\n",
    "                \n",
    "    def infer_greedy(self, lang, input_seq, vocab_size, max_length = 300, start_idx = 3, padding_idx=0):\n",
    "        self.eval()\n",
    "        if use_cuda:\n",
    "            outputs = torch.zeros(max_length, self.vocab_size).cuda()\n",
    "        else:\n",
    "            outputs = torch.zeros(max_length, self.vocab_size)\n",
    "        lang_rep = self.lang_embedding(lang)\n",
    "        encoder_output, hidden = self.encoder(input_seq)\n",
    "        hidden, _ = hidden\n",
    "        lang_and_enc = torch.cat([lang_rep, hidden.view((1, self.encoder.hidden_flat_size))],dim=1)\n",
    "        #print(lang_and_enc.shape)\n",
    "        hidden_start = self.lang_in(lang_and_enc)\n",
    "        hidden = hidden_start.view((self.decoder.num_layers, 1, self.decoder.h1_dim))\n",
    "        cell = torch.zeros(hidden.shape)\n",
    "        output = torch.LongTensor([start_idx]).view((1,1,1))\n",
    "        if use_cuda:\n",
    "            output = output.cuda()\n",
    "            cell = cell.cuda()\n",
    "        hidden = (hidden, cell)\n",
    "        t = 0\n",
    "        while t < max_length and output.item() != start_idx:\n",
    "            output, hidden = self.decoder(output, hidden)\n",
    "            outputs[t] = output.view((-1)).max()\n",
    "            if use_cuda:\n",
    "                #output = Variable(target_seqs.data[t]).cuda()\n",
    "                output = outputs[t]\n",
    "            else:\n",
    "                #output = Variable(target_seqs.data[t])\n",
    "                output = outputs[t]\n",
    "                \n",
    "        return outputs\n",
    "    \n",
    "    def predict(self, val_iter, vocab_size, padding_idx=0):\n",
    "        self.eval()\n",
    "        pad = padding_idx\n",
    "        total_loss = 0\n",
    "        for batch in val_iter:\n",
    "            langs, source, target = zip(*batch)\n",
    "            langs, source, target = torch.stack(langs), torch.stack(source), torch.stack(target)\n",
    "            source = source.T\n",
    "            target = target.T\n",
    "            if use_cuda:\n",
    "                langs, source, target = langs.cuda(), source.cuda(), target.cuda()\n",
    "#             if use_cuda:\n",
    "#                 source = Variable(source.data.cuda(), volatile=True)\n",
    "#                 target = Variable(target.data.cuda(), volatile=True)\n",
    "#                 langs = Variable(langs.data.cuda(), volatile=True)\n",
    "            output = self.forward(langs, source, target, len(batch), target.shape[0])\n",
    "            loss = F.cross_entropy(output[1:].view(-1, vocab_size),\n",
    "                                   target[1:].contiguous().view(-1),\n",
    "                                   ignore_index=pad)\n",
    "            total_loss += loss.item()\n",
    "        return total_loss / len(val_iter)"
   ]
  },
  {
   "cell_type": "code",
   "execution_count": 22,
   "metadata": {},
   "outputs": [],
   "source": [
    "c_encoder = CharEncoder(encoder.vocab_size, 300, 100, 2)\n",
    "c_decoder = CharDecoder(encoder.vocab_size, 300, 100, 2)\n",
    "chars2chars = Chars2Chars(c_encoder, c_decoder, encoder.vocab_size, len(lang_encoder.vocab), 100)"
   ]
  },
  {
   "cell_type": "code",
   "execution_count": 23,
   "metadata": {},
   "outputs": [],
   "source": [
    "chars2chars = chars2chars.cuda()\n",
    "optimizer = torch.optim.Adam(chars2chars.parameters(), lr=0.01)"
   ]
  },
  {
   "cell_type": "code",
   "execution_count": 24,
   "metadata": {},
   "outputs": [
    {
     "name": "stderr",
     "output_type": "stream",
     "text": [
      "/home/boreas/anaconda3/envs/lang/lib/python3.7/site-packages/ipykernel_launcher.py:63: UserWarning: torch.nn.utils.clip_grad_norm is now deprecated in favor of torch.nn.utils.clip_grad_norm_.\n"
     ]
    },
    {
     "ename": "RuntimeError",
     "evalue": "CUDA out of memory. Tried to allocate 764.00 MiB (GPU 0; 5.93 GiB total capacity; 4.34 GiB already allocated; 177.31 MiB free; 587.10 MiB cached)",
     "output_type": "error",
     "traceback": [
      "\u001b[0;31m---------------------------------------------------------------------------\u001b[0m",
      "\u001b[0;31mRuntimeError\u001b[0m                              Traceback (most recent call last)",
      "\u001b[0;32m<ipython-input-24-36753422ce83>\u001b[0m in \u001b[0;36m<module>\u001b[0;34m\u001b[0m\n\u001b[1;32m      3\u001b[0m     \u001b[0mdi_v\u001b[0m \u001b[0;34m=\u001b[0m \u001b[0mdataset_iter\u001b[0m\u001b[0;34m(\u001b[0m\u001b[0mval\u001b[0m\u001b[0;34m,\u001b[0m \u001b[0mbatch_size\u001b[0m\u001b[0;34m=\u001b[0m\u001b[0;36m100\u001b[0m\u001b[0;34m,\u001b[0m \u001b[0mpadding_idx\u001b[0m\u001b[0;34m=\u001b[0m\u001b[0mencoder\u001b[0m\u001b[0;34m.\u001b[0m\u001b[0mstoi\u001b[0m\u001b[0;34m[\u001b[0m\u001b[0;34m'<pad>'\u001b[0m\u001b[0;34m]\u001b[0m\u001b[0;34m)\u001b[0m\u001b[0;34m\u001b[0m\u001b[0;34m\u001b[0m\u001b[0m\n\u001b[1;32m      4\u001b[0m     \u001b[0mdi_t\u001b[0m \u001b[0;34m=\u001b[0m \u001b[0mdataset_iter\u001b[0m\u001b[0;34m(\u001b[0m\u001b[0mtrain\u001b[0m\u001b[0;34m,\u001b[0m \u001b[0mbatch_size\u001b[0m\u001b[0;34m=\u001b[0m\u001b[0;36m100\u001b[0m\u001b[0;34m,\u001b[0m \u001b[0mpadding_idx\u001b[0m\u001b[0;34m=\u001b[0m\u001b[0mencoder\u001b[0m\u001b[0;34m.\u001b[0m\u001b[0mstoi\u001b[0m\u001b[0;34m[\u001b[0m\u001b[0;34m'<pad>'\u001b[0m\u001b[0;34m]\u001b[0m\u001b[0;34m)\u001b[0m\u001b[0;34m\u001b[0m\u001b[0;34m\u001b[0m\u001b[0m\n\u001b[0;32m----> 5\u001b[0;31m     \u001b[0mchars2chars\u001b[0m\u001b[0;34m.\u001b[0m\u001b[0mbatch_train\u001b[0m\u001b[0;34m(\u001b[0m\u001b[0moptimizer\u001b[0m\u001b[0;34m,\u001b[0m \u001b[0mdi_t\u001b[0m\u001b[0;34m,\u001b[0m \u001b[0mlen\u001b[0m\u001b[0;34m(\u001b[0m\u001b[0mencoder\u001b[0m\u001b[0;34m.\u001b[0m\u001b[0mvocab\u001b[0m\u001b[0;34m)\u001b[0m\u001b[0;34m,\u001b[0m \u001b[0mpadding_idx\u001b[0m\u001b[0;34m=\u001b[0m\u001b[0mencoder\u001b[0m\u001b[0;34m.\u001b[0m\u001b[0mstoi\u001b[0m\u001b[0;34m[\u001b[0m\u001b[0;34m'<pad>'\u001b[0m\u001b[0;34m]\u001b[0m\u001b[0;34m)\u001b[0m\u001b[0;34m\u001b[0m\u001b[0;34m\u001b[0m\u001b[0m\n\u001b[0m\u001b[1;32m      6\u001b[0m     \u001b[0mval_loss\u001b[0m \u001b[0;34m=\u001b[0m \u001b[0mchars2chars\u001b[0m\u001b[0;34m.\u001b[0m\u001b[0mpredict\u001b[0m\u001b[0;34m(\u001b[0m\u001b[0mdi_v\u001b[0m\u001b[0;34m,\u001b[0m \u001b[0mlen\u001b[0m\u001b[0;34m(\u001b[0m\u001b[0mencoder\u001b[0m\u001b[0;34m.\u001b[0m\u001b[0mvocab\u001b[0m\u001b[0;34m)\u001b[0m\u001b[0;34m)\u001b[0m\u001b[0;34m\u001b[0m\u001b[0;34m\u001b[0m\u001b[0m\n\u001b[1;32m      7\u001b[0m \u001b[0;34m\u001b[0m\u001b[0m\n",
      "\u001b[0;32m<ipython-input-21-3883f91d56d6>\u001b[0m in \u001b[0;36mbatch_train\u001b[0;34m(self, optimizer, train_iter, vocab_size, grad_clip, padding_idx)\u001b[0m\n\u001b[1;32m     60\u001b[0m                                    \u001b[0mtarget\u001b[0m\u001b[0;34m[\u001b[0m\u001b[0;36m1\u001b[0m\u001b[0;34m:\u001b[0m\u001b[0;34m]\u001b[0m\u001b[0;34m.\u001b[0m\u001b[0mcontiguous\u001b[0m\u001b[0;34m(\u001b[0m\u001b[0;34m)\u001b[0m\u001b[0;34m.\u001b[0m\u001b[0mview\u001b[0m\u001b[0;34m(\u001b[0m\u001b[0;34m-\u001b[0m\u001b[0;36m1\u001b[0m\u001b[0;34m)\u001b[0m\u001b[0;34m,\u001b[0m\u001b[0;34m\u001b[0m\u001b[0;34m\u001b[0m\u001b[0m\n\u001b[1;32m     61\u001b[0m                                    ignore_index=pad)\n\u001b[0;32m---> 62\u001b[0;31m             \u001b[0mloss\u001b[0m\u001b[0;34m.\u001b[0m\u001b[0mbackward\u001b[0m\u001b[0;34m(\u001b[0m\u001b[0;34m)\u001b[0m\u001b[0;34m\u001b[0m\u001b[0;34m\u001b[0m\u001b[0m\n\u001b[0m\u001b[1;32m     63\u001b[0m             \u001b[0mclip_grad_norm\u001b[0m\u001b[0;34m(\u001b[0m\u001b[0mself\u001b[0m\u001b[0;34m.\u001b[0m\u001b[0mparameters\u001b[0m\u001b[0;34m(\u001b[0m\u001b[0;34m)\u001b[0m\u001b[0;34m,\u001b[0m \u001b[0mgrad_clip\u001b[0m\u001b[0;34m)\u001b[0m\u001b[0;34m\u001b[0m\u001b[0;34m\u001b[0m\u001b[0m\n\u001b[1;32m     64\u001b[0m             \u001b[0moptimizer\u001b[0m\u001b[0;34m.\u001b[0m\u001b[0mstep\u001b[0m\u001b[0;34m(\u001b[0m\u001b[0;34m)\u001b[0m\u001b[0;34m\u001b[0m\u001b[0;34m\u001b[0m\u001b[0m\n",
      "\u001b[0;32m~/anaconda3/envs/lang/lib/python3.7/site-packages/torch/tensor.py\u001b[0m in \u001b[0;36mbackward\u001b[0;34m(self, gradient, retain_graph, create_graph)\u001b[0m\n\u001b[1;32m    116\u001b[0m                 \u001b[0mproducts\u001b[0m\u001b[0;34m.\u001b[0m \u001b[0mDefaults\u001b[0m \u001b[0mto\u001b[0m\u001b[0;31m \u001b[0m\u001b[0;31m`\u001b[0m\u001b[0;31m`\u001b[0m\u001b[0;32mFalse\u001b[0m\u001b[0;31m`\u001b[0m\u001b[0;31m`\u001b[0m\u001b[0;34m.\u001b[0m\u001b[0;34m\u001b[0m\u001b[0;34m\u001b[0m\u001b[0m\n\u001b[1;32m    117\u001b[0m         \"\"\"\n\u001b[0;32m--> 118\u001b[0;31m         \u001b[0mtorch\u001b[0m\u001b[0;34m.\u001b[0m\u001b[0mautograd\u001b[0m\u001b[0;34m.\u001b[0m\u001b[0mbackward\u001b[0m\u001b[0;34m(\u001b[0m\u001b[0mself\u001b[0m\u001b[0;34m,\u001b[0m \u001b[0mgradient\u001b[0m\u001b[0;34m,\u001b[0m \u001b[0mretain_graph\u001b[0m\u001b[0;34m,\u001b[0m \u001b[0mcreate_graph\u001b[0m\u001b[0;34m)\u001b[0m\u001b[0;34m\u001b[0m\u001b[0;34m\u001b[0m\u001b[0m\n\u001b[0m\u001b[1;32m    119\u001b[0m \u001b[0;34m\u001b[0m\u001b[0m\n\u001b[1;32m    120\u001b[0m     \u001b[0;32mdef\u001b[0m \u001b[0mregister_hook\u001b[0m\u001b[0;34m(\u001b[0m\u001b[0mself\u001b[0m\u001b[0;34m,\u001b[0m \u001b[0mhook\u001b[0m\u001b[0;34m)\u001b[0m\u001b[0;34m:\u001b[0m\u001b[0;34m\u001b[0m\u001b[0;34m\u001b[0m\u001b[0m\n",
      "\u001b[0;32m~/anaconda3/envs/lang/lib/python3.7/site-packages/torch/autograd/__init__.py\u001b[0m in \u001b[0;36mbackward\u001b[0;34m(tensors, grad_tensors, retain_graph, create_graph, grad_variables)\u001b[0m\n\u001b[1;32m     91\u001b[0m     Variable._execution_engine.run_backward(\n\u001b[1;32m     92\u001b[0m         \u001b[0mtensors\u001b[0m\u001b[0;34m,\u001b[0m \u001b[0mgrad_tensors\u001b[0m\u001b[0;34m,\u001b[0m \u001b[0mretain_graph\u001b[0m\u001b[0;34m,\u001b[0m \u001b[0mcreate_graph\u001b[0m\u001b[0;34m,\u001b[0m\u001b[0;34m\u001b[0m\u001b[0;34m\u001b[0m\u001b[0m\n\u001b[0;32m---> 93\u001b[0;31m         allow_unreachable=True)  # allow_unreachable flag\n\u001b[0m\u001b[1;32m     94\u001b[0m \u001b[0;34m\u001b[0m\u001b[0m\n\u001b[1;32m     95\u001b[0m \u001b[0;34m\u001b[0m\u001b[0m\n",
      "\u001b[0;31mRuntimeError\u001b[0m: CUDA out of memory. Tried to allocate 764.00 MiB (GPU 0; 5.93 GiB total capacity; 4.34 GiB already allocated; 177.31 MiB free; 587.10 MiB cached)"
     ]
    }
   ],
   "source": [
    "best_val_loss = None\n",
    "for epoch in range(epochs):\n",
    "    di_v = dataset_iter(val, batch_size=100, padding_idx=encoder.stoi['<pad>'])\n",
    "    di_t = dataset_iter(train, batch_size=100, padding_idx=encoder.stoi['<pad>'])\n",
    "    chars2chars.batch_train(optimizer, di_t, len(encoder.vocab), padding_idx=encoder.stoi['<pad>'])\n",
    "    val_loss = chars2chars.predict(di_v, len(encoder.vocab))\n",
    "    \n",
    "    print(\"[Epoch:%d] val_loss:%5.3f | val_pp:%5.2f\"\n",
    "        % (i, val_loss, math.exp(val_loss)))\n",
    "\n",
    "    if not best_val_loss or val_loss < best_val_loss:\n",
    "        print(\"[!] saving model...\")\n",
    "        if not os.path.isdir(\".save\"):\n",
    "            os.makedirs(\".save\")\n",
    "        torch.save(chars2chars.state_dict(), './.save/chars2chars_%d.pt' % (i))\n",
    "        best_val_loss = val_loss\n",
    "        \n",
    "    "
   ]
  },
  {
   "cell_type": "code",
   "execution_count": 126,
   "metadata": {},
   "outputs": [],
   "source": [
    "torch.cuda.empty_cache()"
   ]
  },
  {
   "cell_type": "code",
   "execution_count": null,
   "metadata": {},
   "outputs": [],
   "source": [
    "\n",
    "best_val_loss = None\n",
    "for i in range(epoch_num):\n",
    "    seq2seq.batch_train(optimizer, train_iter,len(EN.vocab), grad_clip = 2)\n",
    "    val_loss = seq2seq.predict(val_iter, len(EN.vocab))\n",
    "    print(\"[Epoch:%d] val_loss:%5.3f | val_pp:%5.2f\"\n",
    "          % (i, val_loss, math.exp(val_loss)))\n",
    "\n",
    "    # Save the model if the validation loss is the best we've seen so far.\n",
    "    if not best_val_loss or val_loss < best_val_loss:\n",
    "        print(\"[!] saving model...\")\n",
    "        if not os.path.isdir(\".save\"):\n",
    "            os.makedirs(\".save\")\n",
    "        torch.save(seq2seq.state_dict(), './.save/seq2seq_%d.pt' % (i))\n",
    "        best_val_loss = val_loss\n",
    "    scheduler.step()\n",
    "test_loss = seq2seq.predict(test_iter, len(EN.vocab))\n",
    "print(\"[TEST] loss:%5.2f\" % test_loss)"
   ]
  },
  {
   "cell_type": "code",
   "execution_count": null,
   "metadata": {},
   "outputs": [],
   "source": [
    "ex = val[0]\n",
    "out = chars2chars.infer_greedy(ex[0].view((1)).cuda(), ex[1].view((-1,1)).cuda(), len(encoder.vocab), 300, encoder.stoi['<s>'])"
   ]
  }
 ],
 "metadata": {
  "kernelspec": {
   "display_name": "Python 3",
   "language": "python",
   "name": "python3"
  },
  "language_info": {
   "codemirror_mode": {
    "name": "ipython",
    "version": 3
   },
   "file_extension": ".py",
   "mimetype": "text/x-python",
   "name": "python",
   "nbconvert_exporter": "python",
   "pygments_lexer": "ipython3",
   "version": "3.7.3"
  }
 },
 "nbformat": 4,
 "nbformat_minor": 2
}
